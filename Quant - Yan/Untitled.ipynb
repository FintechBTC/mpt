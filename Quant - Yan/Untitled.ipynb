{
 "cells": [
  {
   "cell_type": "code",
   "execution_count": null,
   "id": "3a674c12-1b28-4690-b844-a0af1d10c1ec",
   "metadata": {},
   "outputs": [],
   "source": [
    "# get annualized stats\n",
    "def get_ann_stats(asset_prices_df):\n",
    "    pct_change = asset_prices_df.pct_change().dropna()\n",
    "    ann_mean = (pct_change.std())*(252**(1/2)) #finding annual std\n",
    "    ann_cov = pct_change.cov()*252 \n",
    "    \n",
    "    "
   ]
  }
 ],
 "metadata": {
  "kernelspec": {
   "display_name": "Python 3 (ipykernel)",
   "language": "python",
   "name": "python3"
  },
  "language_info": {
   "codemirror_mode": {
    "name": "ipython",
    "version": 3
   },
   "file_extension": ".py",
   "mimetype": "text/x-python",
   "name": "python",
   "nbconvert_exporter": "python",
   "pygments_lexer": "ipython3",
   "version": "3.7.13"
  }
 },
 "nbformat": 4,
 "nbformat_minor": 5
}
